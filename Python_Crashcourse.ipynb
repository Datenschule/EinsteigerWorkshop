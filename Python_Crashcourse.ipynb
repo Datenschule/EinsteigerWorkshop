{
 "cells": [
  {
   "cell_type": "markdown",
   "metadata": {},
   "source": [
    "Python Crashcourse\n",
    "==================\n",
    "\n",
    "> *Ich kann nicht programmieren, ich kann nur ein bisschen python*\n",
    "\n",
    "Willkommen zum python Crashcourse von Jugend hackt!\n",
    "\n",
    "In diesem Dokument werdet ihr Grundlagen der Programmierung mit Python lernen.\n",
    "\n",
    "Im folgenden Dokument sind zwei Arten von Inhalt zu finden: \n",
    "\n",
    "1. Erklärender Text, so wie dieser hier\n",
    "2. Python Code, den wir ausführen wollen.\n",
    "\n",
    "Auch wenn man keine Ahnung vom Programmieren hat, sollte man beides direkt erkennen können.\n",
    "\n",
    "Programmieren bedeutet dem Computer Anweisungen zu geben.\n",
    "Jede Anweisung kommt in eine Zeile. \n",
    "\n",
    "Der Computer (genauer gesagt der Interpreter) ließt unsere *Anweisungen* Zeile für Zeile und führt diese aus.\n",
    "Eine leere Zeile (\"Keine Anweisung\") wird einfach übersprungen.\n",
    "Im Code gibt es Zeilen die mit einem `\"#\"` beginnen. Dies sind *Kommentare*, welche weitere Informationen über den Code geben,\n",
    "aber für das Verständis des Crashcourses nicht zwingend wichtig sind.\n",
    "Falls ihr neugierig seid, könnt ihr diese also lesen und verstehen, wenn nicht könnt ihr es einfach bleiben lassen."
   ]
  },
  {
   "cell_type": "markdown",
   "metadata": {},
   "source": [
    "Teil 1: Werte und Variablen\n",
    "---------------------------"
   ]
  },
  {
   "cell_type": "markdown",
   "metadata": {},
   "source": [
    "Jede Anweisung die wird dem Computer geben, hat ein Ergebnis (oder *Wert*). Diese können wir speichern, in dem wir eine *Zuweisung* mit einem `\"=\"`-Zeichen vornehmen.\n",
    "Auf der linken Seite steht dabei der Name den wir diesem Wert zuweisen. Dies nennt man *Variable*.\n",
    "\n",
    "Die einfachste Anweisung ist ein *konstanter Wert*, wie zum Beispiel eine Zahl.\n",
    "Im folgenden wird der Variable mit dem Namen `\"eine_zahl\"` der Wert $1$ zugewiesen.\n",
    "Ganze zahlen werden als *Integer* oder kurz *int* bezeichnet. Rationale Zahlen (mit Komma) werden *float* genannt.\n",
    "Für den Computer ist diese Unterscheidung wichtig."
   ]
  },
  {
   "cell_type": "code",
   "execution_count": null,
   "metadata": {
    "collapsed": false
   },
   "outputs": [],
   "source": [
    "# Einer Variablen kann man eine Zahl zuweisen\n",
    "eine_zahl = 1"
   ]
  },
  {
   "cell_type": "markdown",
   "metadata": {},
   "source": [
    "Neben Zahlen kann auch Text zugewiesen werden. Wie bei wörtlicher Rede muss auch Text in Anführungszeichen gesetzt werden.\n",
    "Dabei können sowohl einfache (`'`) als auch doppelte (`\"`) Anführungszeichen verwendet werden.\n",
    "\n",
    "Einen Text beziehungsweise eine Folge von Zeichen nennt man *String*."
   ]
  },
  {
   "cell_type": "code",
   "execution_count": null,
   "metadata": {
    "collapsed": true
   },
   "outputs": [],
   "source": [
    "# Oder auch Buchstaben (Strings)\n",
    "text = \"Hallo Einsteiger!\""
   ]
  },
  {
   "cell_type": "markdown",
   "metadata": {},
   "source": [
    "Der Wert einer Variable mann mit dem Befehl `print` ausgegeben werden. \n",
    "Dafür muss der Name der Variable in Klammern angegeben werden. Das funktioniert sowohl für Zahlen als auch für Texte."
   ]
  },
  {
   "cell_type": "code",
   "execution_count": null,
   "metadata": {
    "collapsed": false
   },
   "outputs": [],
   "source": [
    "print(eine_zahl)\n",
    "print(text)"
   ]
  },
  {
   "cell_type": "markdown",
   "metadata": {},
   "source": [
    "**Aufgabe**: Passe den obigen Quellcode so an, dass anstelle von \"Einsteiger\" dein Name ausgegeben wird"
   ]
  },
  {
   "cell_type": "markdown",
   "metadata": {},
   "source": [
    "---"
   ]
  },
  {
   "cell_type": "markdown",
   "metadata": {},
   "source": [
    "Teil 2: Befehle\n",
    "---------------"
   ]
  },
  {
   "cell_type": "markdown",
   "metadata": {},
   "source": [
    "Jeder Befehl in Python besteht aus einem Bezeichner (in diesem Fall `print`) und einem Klammerpaar. Dieses signalisiert dem Computer, dass es sich um einen Befehl handelt. Einen solchen Befehl nennt man auch *Funktion*.\n",
    "Funktionen sind dir vielleicht schon aus der Mathematik bekannt: $f(x)$. `\"f\"` ist der Name der Funktion und `\"x\"` ist ein *Parameter*. **\"print\"** ist der Name der Ausgabefunktion und der Parameter ist die Variable die auszugeben ist."
   ]
  },
  {
   "cell_type": "markdown",
   "metadata": {},
   "source": [
    "Der typische Ablauf eines Programms besteht aus drei Schritten.\n",
    "\n",
    "1. Eingabe\n",
    "2. Verarbeitung\n",
    "3. Ausgabe\n",
    "\n",
    "Wie du etwas ausgeben kannst, hast du bereits gelernt. Als nächstes geht es darum etwas einzugeben.\n",
    "Hierfür gibt es das Kommando `raw_input`. Damit der Benutzer weiß, was er eingeben soll, kann über den *Parameter* ein Text angeben werden, welcher dem Benutzer präsentiert wird."
   ]
  },
  {
   "cell_type": "code",
   "execution_count": null,
   "metadata": {
    "collapsed": false
   },
   "outputs": [],
   "source": [
    "# Mit \"raw_input\" kann man Tastatureingaben einlesen\n",
    "name = raw_input(\"Gib deinen Namen ein: \")\n",
    "\n",
    "print(\"Hallo, {}!\".format(name))"
   ]
  },
  {
   "cell_type": "markdown",
   "metadata": {},
   "source": [
    "**Aufgabe:** Ändere den Code so, dass er dich nach deinem Alter fragt"
   ]
  },
  {
   "cell_type": "markdown",
   "metadata": {},
   "source": [
    "---"
   ]
  },
  {
   "cell_type": "markdown",
   "metadata": {},
   "source": [
    "Teil 3: Dateien schreiben und lesen\n",
    "-----------------------------------"
   ]
  },
  {
   "cell_type": "markdown",
   "metadata": {},
   "source": [
    "Es ist denkbar, alle Daten die ein Programm verarbeiten soll vom Benutzer eingeben zu lassen.\n",
    "Für große Datenmengen ist dies jedoch unpraktisch bis quasi unmöglich.\n",
    "Die Lösung ist das Speichern und Laden von Informationen in Dateien.\n",
    "\n",
    "Dateien können entweder gelesen oder geschrieben werden, aber nicht beides zur gleichen Zeit. Schreibt man eine Datei, wird ihr vorheriger Inhalt überschrieben. Um auf einen Datei zuzugreifen muss diese *geöffnet* werden. Beim Öffnen der Datei gibt man neben dem Dateinamen an, ob man lesen oder schreiben möchte.\n",
    "\n",
    "Wenn eine Datei fertig gelesen oder geschrieben wurde, muss diese wieder geschlossen werden. Hierzu wird der Code der sich auf die Datei bezieht in einem *Block* zusammengefasst. Ein Block wird durch Leerzeichen eingerückt."
   ]
  },
  {
   "cell_type": "markdown",
   "metadata": {},
   "source": [
    "Wir beginnen damit eine Datei zu schreiben ..."
   ]
  },
  {
   "cell_type": "code",
   "execution_count": null,
   "metadata": {
    "collapsed": true
   },
   "outputs": [],
   "source": [
    "# Das \"w\" steht für schreiben (write).\n",
    "\n",
    "with open(\"Obst.txt\", \"w\") as f:\n",
    "    # Was reinschreiben.\n",
    "    f.write(\"Apfel, Birne, Banane.\")"
   ]
  },
  {
   "cell_type": "markdown",
   "metadata": {},
   "source": [
    "... welche wir im Anschluss wieder einlesen ..."
   ]
  },
  {
   "cell_type": "code",
   "execution_count": null,
   "metadata": {
    "collapsed": true
   },
   "outputs": [],
   "source": [
    "# Nochmal aufmachen. \"r\" steht für lesen (read).\n",
    "with open(\"Obst.txt\", \"r\") as f:\n",
    "    # Den gesamten Inhalt auslesen\n",
    "    text = f.read()"
   ]
  },
  {
   "cell_type": "markdown",
   "metadata": {},
   "source": [
    "... und zum Schluss geben wir den eingelesen Text wieder aus."
   ]
  },
  {
   "cell_type": "code",
   "execution_count": null,
   "metadata": {
    "collapsed": false
   },
   "outputs": [],
   "source": [
    "print(text)"
   ]
  },
  {
   "cell_type": "markdown",
   "metadata": {},
   "source": [
    "**Aufgabe:**"
   ]
  },
  {
   "cell_type": "markdown",
   "metadata": {},
   "source": [
    "---"
   ]
  },
  {
   "cell_type": "markdown",
   "metadata": {},
   "source": [
    "Teil 4: Listen und Schleifen\n",
    "----------------------------"
   ]
  },
  {
   "cell_type": "markdown",
   "metadata": {},
   "source": [
    "Häufig benötigt man mehr als einen Wert. Jetzt hat man die Möglichkeit für jeden Wert eine Variable anzulegen, dies ist im besten Fall unhandlich, im schlimmsten Fall unmöglich.\n",
    "\n",
    "Die Lösung ist, mehrere Werte in einer Liste zusammenzufassen. Dies erfolgt durch eckige Klammern."
   ]
  },
  {
   "cell_type": "code",
   "execution_count": null,
   "metadata": {
    "collapsed": true
   },
   "outputs": [],
   "source": [
    "liste = [1, 2, 3, 4, 5]"
   ]
  },
  {
   "cell_type": "markdown",
   "metadata": {},
   "source": [
    "Eine Liste kann nicht nur Zahlen sondern auch Texte enthalten."
   ]
  },
  {
   "cell_type": "code",
   "execution_count": null,
   "metadata": {
    "collapsed": true
   },
   "outputs": [],
   "source": [
    "namen = [\"Alpaka\", \"Karline\"]"
   ]
  },
  {
   "cell_type": "markdown",
   "metadata": {},
   "source": [
    "Um alle Werte eine Liste zu verarbeiten, verwendet man eine Schleife. Wie schon bei den Dateien hat auch die Schleife einen *Block*. Der Code im Block wird für jedes Element der Liste ausgeführt."
   ]
  },
  {
   "cell_type": "code",
   "execution_count": null,
   "metadata": {
    "collapsed": false
   },
   "outputs": [],
   "source": [
    "# Berechne die Quadratzahl für alle Zahlen von 1 bis 10\n",
    "for zahl in [1, 2, 3, 4, 5, 6, 7, 8, 9, 10]:\n",
    "    quadrat = zahl * zahl\n",
    "    print(quadrat)"
   ]
  },
  {
   "cell_type": "markdown",
   "metadata": {},
   "source": [
    "**Aufgabe:** Was passiert wenn die *print* Anweisung nicht eingerückt ist?"
   ]
  },
  {
   "cell_type": "markdown",
   "metadata": {},
   "source": [
    "---"
   ]
  },
  {
   "cell_type": "markdown",
   "metadata": {},
   "source": [
    "Teil 5: Fallunterscheidungen\n",
    "----------------------------"
   ]
  },
  {
   "cell_type": "markdown",
   "metadata": {},
   "source": [
    "Ebenso häufig wie eine Liste von Werte verarbeitet wird, muss ein Programm zwischen verschiedenen Alternativen unterscheiden.\n",
    "Hierfür werden zwei Werte miteinander verglichen. Dies können sowohl konstante Werte als auch Variablen sein.\n",
    "\n",
    "Für den Vergleich gibt es verschiedene Möglichkeiten:\n",
    "\n",
    "- **`==`** Gleich (Man beachte, dass es sich um 2 Gleichheitszeichen handelt, nicht eins)\n",
    "- **`!=`** Ungleich\n",
    "- **`<`** Kleiner \n",
    "- **`>`** Größer\n",
    "- **`<=`** Kleiner oder gleich\n",
    "- **`>=`** Größer oder gleich\n",
    "\n",
    "Dem Vergleich ist ein *Block* zugeordnet, welcher nur ausgeführt wird, wenn der Vergleich erfolgreich war.\n",
    "Optional kann ein zweiter *Block* definiert werden, welcher ausgeführt wird, wenn der Vergleich fehlgeschlagen ist."
   ]
  },
  {
   "cell_type": "code",
   "execution_count": null,
   "metadata": {
    "collapsed": false
   },
   "outputs": [],
   "source": [
    "# Ein Rätsel\n",
    "wort = raw_input(\"Wie lautet das geheime Wort? \")\n",
    "\n",
    "# Mit == können wir zwei Werte / Variablen vergleichen\n",
    "if wort == \"Alpaka\":\n",
    "    print(\"Richtig! Die geheime Wort ist {}!\".format(wort))\n",
    "else:\n",
    "    print(\"{} ist leider falsch!\".format(wort))"
   ]
  },
  {
   "cell_type": "markdown",
   "metadata": {},
   "source": [
    "**Aufgabe:** Ändere das geheime Wort."
   ]
  },
  {
   "cell_type": "markdown",
   "metadata": {},
   "source": [
    "---"
   ]
  },
  {
   "cell_type": "markdown",
   "metadata": {},
   "source": [
    "Teil 6: Fehlerbehandlung\n",
    "------------------------"
   ]
  },
  {
   "cell_type": "markdown",
   "metadata": {},
   "source": [
    "Es kann nicht vermieden werden, dass bei der Benutzung eines Programms Fehler auftreten. Insbesondere wenn der Benutzer sich nicht an die Vorgaben hält, was einzugeben ist.\n",
    "Idealerweise sollte das Programm bei einer fehlerhaften Eingabe nicht abstürzen, sondern eine dem Benutzer eine Meldung präsentieren.\n",
    "\n",
    "Ähnlich wie bei einer Fallunterscheidung gibt es zwei Blöcke. Das Programm versucht jeden Befehl des ersten Blocks auszuführen.\n",
    "Sollte hierbei ein Fehler auftreten, wird die Ausführung des ersten Blocks abgebrochen und der Zweite stattdessen ausgeführt.\n",
    "Tritt kein Fehler auf, wird nur der zweite Block ignoriert."
   ]
  },
  {
   "cell_type": "code",
   "execution_count": null,
   "metadata": {
    "collapsed": true
   },
   "outputs": [],
   "source": [
    "eingabe = raw_input(\"Wie alt bist du?\")\n",
    "try:\n",
    "    jahre = int(eingabe)  # Hierbei kann ein Fehler auftreten\n",
    "    print(\"Du bist mindestens {} Tage alt.\".format(jahre * 365))\n",
    "except:\n",
    "    print(\"Das ist keine Zahl\")"
   ]
  },
  {
   "cell_type": "markdown",
   "metadata": {},
   "source": [
    "**Aufgabe:**"
   ]
  },
  {
   "cell_type": "markdown",
   "metadata": {},
   "source": [
    "---"
   ]
  },
  {
   "cell_type": "markdown",
   "metadata": {},
   "source": [
    "Teil 7: Wiederholungen\n",
    "----------------------"
   ]
  },
  {
   "cell_type": "markdown",
   "metadata": {},
   "source": [
    "Die Möglichkeit zur Fehlerbehandlung kann mit einer Wiederholung kombiniert werden. Auf diese Weise kann der Benutzer seinen Fehler korrigieren, ohne das Programm neustarten zu müssen."
   ]
  },
  {
   "cell_type": "code",
   "execution_count": null,
   "metadata": {
    "collapsed": true
   },
   "outputs": [],
   "source": [
    "zahl = 0\n",
    "while zahl == 0:\n",
    "    try:\n",
    "        eingabe = raw_input(\"Gibt dein Alter ein\")\n",
    "        jahre = int(eingabe)\n",
    "    except:\n",
    "        print(\"Du hast keine Zahl eingegeben.\")\n",
    "print(\"Du bist mindestens {} Tage alt.\".format(jahre * 365))"
   ]
  },
  {
   "cell_type": "markdown",
   "metadata": {},
   "source": [
    "**Aufgabe:**"
   ]
  },
  {
   "cell_type": "markdown",
   "metadata": {},
   "source": [
    "Teil 8: Module\n",
    "--------------"
   ]
  },
  {
   "cell_type": "markdown",
   "metadata": {},
   "source": [
    "Der letzte Teil diese Crashkurses kombiniert alles bisher gelernte mit dem, was Python seine Mächtigkeit verleiht, die Module.\n",
    "\n",
    "Ein Modul enthält zusätzliche Code den wir in unserem Programm verwenden können. Es wird durch eine besondere Anweisung geladen: *import*.\n",
    "\n",
    "Im folgenden nutzen wir das Modul \"random\" um eine zufällige Zahl zu erzeugen."
   ]
  },
  {
   "cell_type": "code",
   "execution_count": null,
   "metadata": {
    "collapsed": false
   },
   "outputs": [],
   "source": [
    "import random\n",
    "\n",
    "versuche = 10\n",
    "meine_zahl = random.randint(0, 100)\n",
    "deine_zahl = 0\n",
    "\n",
    "print(\"Ich habe mir eine Zahl zwischen 1 und 100 ausgedacht.\")\n",
    "print(\"Welche?\")\n",
    "\n",
    "# != bedeutet ungleich\n",
    "while versuche > 0 and deine_zahl != meine_zahl:\n",
    "    # Eine Anweisung in Klammern kann über mehrere Zeilen gehen.\n",
    "    eingabe = raw_input(\n",
    "        \"Du darfst noch {} mal raten: \".format(versuche)\n",
    "    )\n",
    "    try:\n",
    "        # Eine Eingabe ist ein Text, wir versuchen diesen in eine\n",
    "        # Zahl umzuwandeln. (int)\n",
    "        # Nur wenn es tatsächlich eine Zahl ist, können wir \n",
    "        # weitermachen.\n",
    "        deine_zahl = int(eingabe)\n",
    "        if (deine_zahl < 0 or deine_zahl > 100):\n",
    "            print(\n",
    "            \"Du musst eine Zahl zwischen 1 und 100 eingeben.\"\n",
    "            )\n",
    "        elif deine_zahl < meine_zahl:\n",
    "            # Wenn unser Text Umlaut enhält müssen wir dies durch \n",
    "            # ein kleines u markieren.\n",
    "            print(u\"Meine Zahl ist größer!\")\n",
    "            versuche = versuche - 1\n",
    "        elif deine_zahl > meine_zahl:\n",
    "            print(\"Meine Zahl ist kleiner!\")\n",
    "            versuche = versuche - 1\n",
    "        elif deine_zahl == meine_zahl:\n",
    "            print(\"Das ist meine Zahl!\")\n",
    "    except:\n",
    "        print(\"Du musst schon eine Zahl eingeben.\")"
   ]
  },
  {
   "cell_type": "markdown",
   "metadata": {},
   "source": [
    "**Aufgabe:** Lies den Code aufmerksam durch und versuche ihn zu verstehen."
   ]
  }
 ],
 "metadata": {
  "celltoolbar": "Raw Cell Format",
  "kernelspec": {
   "display_name": "Python 2",
   "language": "python",
   "name": "python2"
  },
  "language_info": {
   "codemirror_mode": {
    "name": "ipython",
    "version": 2
   },
   "file_extension": ".py",
   "mimetype": "text/x-python",
   "name": "python",
   "nbconvert_exporter": "python",
   "pygments_lexer": "ipython2",
   "version": "2.7.11"
  }
 },
 "nbformat": 4,
 "nbformat_minor": 0
}
